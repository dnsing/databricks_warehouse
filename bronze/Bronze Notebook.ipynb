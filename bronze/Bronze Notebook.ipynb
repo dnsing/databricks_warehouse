{
 "cells": [
  {
   "cell_type": "code",
   "execution_count": 0,
   "metadata": {
    "application/vnd.databricks.v1+cell": {
     "cellMetadata": {
      "byteLimit": 2048000,
      "rowLimit": 10000
     },
     "inputWidgets": {},
     "nuid": "800feb74-9065-4d6b-947d-3f351ae3e42d",
     "showTitle": false,
     "tableResultSettingsMap": {},
     "title": ""
    }
   },
   "outputs": [],
   "source": [
    "def write_to_one_csv(df, destination_folder_path, destination_file_name):\n",
    "    # Make dateframe into a single partition and write to CSV\n",
    "    df.coalesce(1).write.mode(\"append\").csv(destination_folder_path, header=True) \n",
    "    # Remove unneeded files, and rename csv file to template\n",
    "    list_dir = dbutils.fs.ls(destination_folder_path)\n",
    "    for file in list_dir:\n",
    "        file_name = file.name\n",
    "        file_path = file.path\n",
    "        if file_name.startswith(\"part\"):\n",
    "            source_path = f\"{destination_folder_path}/{file_name}\"\n",
    "            destination_path = f\"{destination_folder_path}/{destination_file_name}\"\n",
    "            dbutils.fs.mv(source_path, destination_path)\n",
    "            print(f\"{file_name} renamed to {destination_file_name}\")\n",
    "        elif file_name.endswith(\".csv\"):\n",
    "            pass\n",
    "        else:\n",
    "            file_path = f\"{destination_folder_path}/{file_name}\"\n",
    "            dbutils.fs.rm(file_path)\n",
    "            print(f\"{file_name} removed\")"
   ]
  },
  {
   "cell_type": "markdown",
   "metadata": {
    "application/vnd.databricks.v1+cell": {
     "cellMetadata": {
      "byteLimit": 2048000,
      "rowLimit": 10000
     },
     "inputWidgets": {},
     "nuid": "2cc7f9e0-bb72-4fe7-9e6f-73b7fd676391",
     "showTitle": false,
     "tableResultSettingsMap": {},
     "title": ""
    }
   },
   "source": [
    "## Source CRM"
   ]
  },
  {
   "cell_type": "code",
   "execution_count": 0,
   "metadata": {
    "application/vnd.databricks.v1+cell": {
     "cellMetadata": {
      "byteLimit": 2048000,
      "rowLimit": 10000
     },
     "inputWidgets": {},
     "nuid": "d66a85bf-3b9c-480f-a10d-f4908b323475",
     "showTitle": false,
     "tableResultSettingsMap": {},
     "title": ""
    }
   },
   "outputs": [],
   "source": [
    "# cust_info\n",
    "cust_info = spark.read.format(\"csv\").option(\"header\", \"true\").option(\"inferSchema\", \"true\").load(\"/Volumes/workspace/default/datasets/source_crm/cust_info.csv\")\n",
    "write_to_one_csv(cust_info, \"/Volumes/workspace/default/bronze/source_crm\", \"cust_info.csv\")\n",
    "display(cust_info)\n",
    "\n"
   ]
  },
  {
   "cell_type": "code",
   "execution_count": 0,
   "metadata": {
    "application/vnd.databricks.v1+cell": {
     "cellMetadata": {
      "byteLimit": 2048000,
      "rowLimit": 10000
     },
     "inputWidgets": {},
     "nuid": "0888d672-a86a-4670-88d4-fdb0b64580b5",
     "showTitle": false,
     "tableResultSettingsMap": {},
     "title": ""
    }
   },
   "outputs": [],
   "source": [
    "# prd_info\n",
    "prd_info = spark.read.format(\"csv\").option(\"header\", \"true\").option(\"inferSchema\", \"true\").load(\"/Volumes/workspace/default/datasets/source_crm/prd_info.csv\")\n",
    "write_to_one_csv(prd_info, \"/Volumes/workspace/default/bronze/source_crm\", \"prd_info.csv\")\n",
    "display(prd_info)"
   ]
  },
  {
   "cell_type": "code",
   "execution_count": 0,
   "metadata": {
    "application/vnd.databricks.v1+cell": {
     "cellMetadata": {
      "byteLimit": 2048000,
      "rowLimit": 10000
     },
     "inputWidgets": {},
     "nuid": "ad1510ac-5dbc-48fb-a7c6-e301ddece6ec",
     "showTitle": false,
     "tableResultSettingsMap": {},
     "title": ""
    }
   },
   "outputs": [],
   "source": [
    "# sales_details\n",
    "sales_details = spark.read.format(\"csv\").option(\"header\", \"true\").option(\"inferSchema\", \"true\").load(\"/Volumes/workspace/default/datasets/source_crm/sales_details.csv\")\n",
    "write_to_one_csv(sales_details, \"/Volumes/workspace/default/bronze/source_crm\", \"sales_details.csv\")\n",
    "display(sales_details)"
   ]
  },
  {
   "cell_type": "markdown",
   "metadata": {
    "application/vnd.databricks.v1+cell": {
     "cellMetadata": {
      "byteLimit": 2048000,
      "rowLimit": 10000
     },
     "inputWidgets": {},
     "nuid": "9c81a386-b80e-4d1c-9be3-9d3d3c7e0391",
     "showTitle": false,
     "tableResultSettingsMap": {},
     "title": ""
    }
   },
   "source": [
    "## Source ERP"
   ]
  },
  {
   "cell_type": "code",
   "execution_count": 0,
   "metadata": {
    "application/vnd.databricks.v1+cell": {
     "cellMetadata": {
      "byteLimit": 2048000,
      "rowLimit": 10000
     },
     "inputWidgets": {},
     "nuid": "db0f3cfc-cc10-40ba-b696-054ec4c2bfc6",
     "showTitle": false,
     "tableResultSettingsMap": {},
     "title": ""
    }
   },
   "outputs": [],
   "source": [
    "# CUST_AZ12\n",
    "CUST_AZ12 = spark.read.format(\"csv\").option(\"header\", \"true\").option(\"inferSchema\", \"true\").load(\"/Volumes/workspace/default/datasets/source_erp/CUST_AZ12.csv\")\n",
    "write_to_one_csv(CUST_AZ12, \"/Volumes/workspace/default/bronze/source_erp\", \"CUST_AZ12.csv\")\n",
    "display(CUST_AZ12)"
   ]
  },
  {
   "cell_type": "code",
   "execution_count": 0,
   "metadata": {
    "application/vnd.databricks.v1+cell": {
     "cellMetadata": {
      "byteLimit": 2048000,
      "rowLimit": 10000
     },
     "inputWidgets": {},
     "nuid": "184784c7-efa1-4b46-9c9c-a600841966b0",
     "showTitle": false,
     "tableResultSettingsMap": {},
     "title": ""
    }
   },
   "outputs": [],
   "source": [
    "# LOC_A101\n",
    "LOC_A101 = spark.read.format(\"csv\").option(\"header\", \"true\").option(\"inferSchema\", \"true\").load(\"/Volumes/workspace/default/datasets/source_erp/LOC_A101.csv\")\n",
    "write_to_one_csv(LOC_A101, \"/Volumes/workspace/default/bronze/source_erp\", \"LOC_A101.csv\")\n",
    "display(LOC_A101)"
   ]
  },
  {
   "cell_type": "code",
   "execution_count": 0,
   "metadata": {
    "application/vnd.databricks.v1+cell": {
     "cellMetadata": {
      "byteLimit": 2048000,
      "rowLimit": 10000
     },
     "inputWidgets": {},
     "nuid": "30993959-a342-4f87-9a33-578d89c68e56",
     "showTitle": false,
     "tableResultSettingsMap": {},
     "title": ""
    }
   },
   "outputs": [],
   "source": [
    "# PX_CAT_G1V2\n",
    "PX_CAT_G1V2 = spark.read.format(\"csv\").option(\"header\", \"true\").option(\"inferSchema\", \"true\").load(\"/Volumes/workspace/default/datasets/source_erp/PX_CAT_G1V2.csv\")\n",
    "write_to_one_csv(PX_CAT_G1V2, \"/Volumes/workspace/default/bronze/source_erp\", \"PX_CAT_G1V2.csv\")\n",
    "display(PX_CAT_G1V2)"
   ]
  }
 ],
 "metadata": {
  "application/vnd.databricks.v1+notebook": {
   "computePreferences": null,
   "dashboards": [],
   "environmentMetadata": {
    "base_environment": "",
    "environment_version": "2"
   },
   "inputWidgetPreferences": null,
   "language": "python",
   "notebookMetadata": {
    "pythonIndentUnit": 4
   },
   "notebookName": "Bronze Notebook",
   "widgets": {}
  },
  "language_info": {
   "name": "python"
  }
 },
 "nbformat": 4,
 "nbformat_minor": 0
}
