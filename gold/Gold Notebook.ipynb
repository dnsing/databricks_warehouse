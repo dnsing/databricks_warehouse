{
 "cells": [
  {
   "cell_type": "markdown",
   "metadata": {
    "application/vnd.databricks.v1+cell": {
     "cellMetadata": {},
     "inputWidgets": {},
     "nuid": "2a8e9e7a-85e6-485a-91fb-88e57a00a7c9",
     "showTitle": false,
     "tableResultSettingsMap": {},
     "title": ""
    }
   },
   "source": [
    "SOURCE CRM"
   ]
  },
  {
   "cell_type": "code",
   "execution_count": 0,
   "metadata": {
    "application/vnd.databricks.v1+cell": {
     "cellMetadata": {
      "byteLimit": 2048000,
      "rowLimit": 10000
     },
     "inputWidgets": {},
     "nuid": "bcdf5098-c074-4399-a376-4dbdd00d0004",
     "showTitle": false,
     "tableResultSettingsMap": {},
     "title": ""
    }
   },
   "outputs": [],
   "source": [
    "# Imports\n",
    "\n",
    "from pyspark.sql.functions import col, count, when, row_number, desc, trim\n",
    "from pyspark.sql.functions import substring, regexp_replace, when, length, expr, lead, lit\n",
    "from pyspark.sql.window import Window"
   ]
  },
  {
   "cell_type": "code",
   "execution_count": 0,
   "metadata": {
    "application/vnd.databricks.v1+cell": {
     "cellMetadata": {
      "byteLimit": 2048000,
      "rowLimit": 10000
     },
     "inputWidgets": {},
     "nuid": "269a75f7-cca2-4dcd-8231-6f22a61b06b5",
     "showTitle": false,
     "tableResultSettingsMap": {
      "0": {
       "dataGridStateBlob": "{\"version\":1,\"tableState\":{\"columnPinning\":{\"left\":[\"#row_number#\"],\"right\":[]},\"columnSizing\":{},\"columnVisibility\":{}},\"settings\":{\"columns\":{}},\"syncTimestamp\":1752508137734}",
       "filterBlob": null,
       "queryPlanFiltersBlob": null,
       "tableResultIndex": 0
      }
     },
     "title": ""
    }
   },
   "outputs": [],
   "source": [
    "# Customer Dimension\n",
    "gold_cust_info = spark.read.format(\"csv\").option(\"header\", \"true\").option(\"inferSchema\", \"true\").load(\"/Volumes/workspace/default/silver/source_crm/cust_info.csv\")\n",
    "gold_CUST_AZ12 = spark.read.format(\"csv\").option(\"header\", \"true\").option(\"inferSchema\", \"true\").load(\"/Volumes/workspace/default/silver/source_erp/CUST_AZ12.csv\")\n",
    "gold_LOC_A101 = spark.read.format(\"csv\").option(\"header\", \"true\").option(\"inferSchema\", \"true\").load(\"/Volumes/workspace/default/silver/source_erp/LOC_A101.csv\")\n",
    "\n",
    "cust_dimension = gold_cust_info.join(gold_CUST_AZ12, gold_cust_info.cst_key == gold_CUST_AZ12.CID, \"left\")\n",
    "cust_dimension = cust_dimension.join(gold_LOC_A101, cust_dimension.CID == gold_LOC_A101.CID, \"left\")\n",
    "\n",
    "# Data integration in missmatching columns\n",
    "cust_dimension = cust_dimension.withColumn(\n",
    "    \"cst_gndr\",\n",
    "    when(col(\"cst_gndr\") == 'na', col(\"GEN\"))\n",
    "    .otherwise(col(\"cst_gndr\"))\n",
    ")\n",
    "\n",
    "# Adding Surrogate Key (system generated unique identifier)\n",
    "cust_dimension = cust_dimension.withColumn(\n",
    "    \"cst_sk\",\n",
    "    row_number().over(Window.orderBy(lit(1)))\n",
    ")\n",
    "\n",
    "\n",
    "display(cust_dimension)"
   ]
  },
  {
   "cell_type": "code",
   "execution_count": 0,
   "metadata": {
    "application/vnd.databricks.v1+cell": {
     "cellMetadata": {
      "byteLimit": 2048000,
      "rowLimit": 10000
     },
     "collapsed": true,
     "inputWidgets": {},
     "nuid": "8a980221-7dfb-46cd-a4bf-6f013125e9ed",
     "showTitle": false,
     "tableResultSettingsMap": {
      "0": {
       "dataGridStateBlob": "{\"version\":1,\"tableState\":{\"columnPinning\":{\"left\":[\"#row_number#\"],\"right\":[]},\"columnSizing\":{},\"columnVisibility\":{}},\"settings\":{\"columns\":{}},\"syncTimestamp\":1752508825414}",
       "filterBlob": null,
       "queryPlanFiltersBlob": null,
       "tableResultIndex": 0
      },
      "1": {
       "dataGridStateBlob": "{\"version\":1,\"tableState\":{\"columnPinning\":{\"left\":[\"#row_number#\"],\"right\":[]},\"columnSizing\":{},\"columnVisibility\":{}},\"settings\":{\"columns\":{}},\"syncTimestamp\":1752509522863}",
       "filterBlob": null,
       "queryPlanFiltersBlob": null,
       "tableResultIndex": 1
      }
     },
     "title": ""
    }
   },
   "outputs": [],
   "source": [
    "# Check for duplicates\n",
    "# display(cust_dimension.groupBy(\"cst_id\").count().filter(col(\"count\") > 1).select(\"cst_id\"))\n",
    "\n",
    "# Data integration in missmatching columns\n",
    "display(cust_dimension.select(\"cst_gndr\", \"GEN\").filter(col(\"cst_gndr\") != col(\"GEN\")))\n",
    "\n",
    "cust_dimension = cust_dimension.withColumn(\n",
    "    \"cst_gndr\",\n",
    "    when(col(\"cst_gndr\") == 'na', col(\"GEN\"))\n",
    "    .otherwise(col(\"cst_gndr\"))\n",
    ")\n",
    "\n",
    "display(cust_dimension.select(\"cst_gndr\", \"GEN\",).filter(col(\"cst_gndr\") != col(\"GEN\")))\n",
    "\n",
    "display(cust_dimension.select(\"cst_gndr\", \"GEN\",).filter((col(\"cst_gndr\").isNull()) | (col(\"cst_gndr\") == 'na')))\n",
    "\n"
   ]
  },
  {
   "cell_type": "code",
   "execution_count": 0,
   "metadata": {
    "application/vnd.databricks.v1+cell": {
     "cellMetadata": {
      "byteLimit": 2048000,
      "rowLimit": 10000
     },
     "inputWidgets": {},
     "nuid": "95afe10a-3be3-43c9-9f82-9ee7a45d600e",
     "showTitle": false,
     "tableResultSettingsMap": {
      "0": {
       "dataGridStateBlob": "{\"version\":1,\"tableState\":{\"columnPinning\":{\"left\":[\"#row_number#\"],\"right\":[]},\"columnSizing\":{},\"columnVisibility\":{}},\"settings\":{\"columns\":{}},\"syncTimestamp\":1752511194823}",
       "filterBlob": null,
       "queryPlanFiltersBlob": null,
       "tableResultIndex": 0
      }
     },
     "title": ""
    }
   },
   "outputs": [],
   "source": [
    "# Product Dimension\n",
    "gold_prd_info = spark.read.format(\"csv\").option(\"header\", \"true\").option(\"inferSchema\", \"true\").load(\"/Volumes/workspace/default/silver/source_crm/prd_info.csv\")\n",
    "gold_PX_CAT_G1V2 = spark.read.format(\"csv\").option(\"header\", \"true\").option(\"inferSchema\", \"true\").load(\"/Volumes/workspace/default/silver/source_erp/PX_CAT_G1V.csv\")\n",
    "\n",
    "# Filtering by the latest product\n",
    "gold_prd_info = gold_prd_info.filter(col(\"prd_end_dt\").isNull())\n",
    "\n",
    "# Merging tables\n",
    "prod_dimension = gold_prd_info.join(gold_PX_CAT_G1V2, gold_prd_info.cat_id == gold_PX_CAT_G1V2.ID, \"left\")\n",
    "\n",
    "\n",
    "display(prod_dimension)\n",
    "\n"
   ]
  },
  {
   "cell_type": "code",
   "execution_count": 0,
   "metadata": {
    "application/vnd.databricks.v1+cell": {
     "cellMetadata": {
      "byteLimit": 2048000,
      "rowLimit": 10000
     },
     "collapsed": true,
     "inputWidgets": {},
     "nuid": "03f71ded-1a93-4628-bf59-0f0b1f0f238d",
     "showTitle": false,
     "tableResultSettingsMap": {
      "0": {
       "dataGridStateBlob": "{\"version\":1,\"tableState\":{\"columnPinning\":{\"left\":[\"#row_number#\"],\"right\":[]},\"columnSizing\":{},\"columnVisibility\":{}},\"settings\":{\"columns\":{}},\"syncTimestamp\":1752511333457}",
       "filterBlob": null,
       "queryPlanFiltersBlob": null,
       "tableResultIndex": 0
      }
     },
     "title": ""
    }
   },
   "outputs": [],
   "source": [
    "# Check for duplicates\n",
    "display(prod_dimension.groupBy(\"prd_key\").count().filter(col(\"count\") > 1).select(\"prd_key\"))"
   ]
  },
  {
   "cell_type": "code",
   "execution_count": 0,
   "metadata": {
    "application/vnd.databricks.v1+cell": {
     "cellMetadata": {
      "byteLimit": 2048000,
      "rowLimit": 10000
     },
     "inputWidgets": {},
     "nuid": "5a15dd2d-e130-44b1-9ff0-6b44174ddc80",
     "showTitle": false,
     "tableResultSettingsMap": {
      "0": {
       "dataGridStateBlob": "{\"version\":1,\"tableState\":{\"columnPinning\":{\"left\":[\"#row_number#\"],\"right\":[]},\"columnSizing\":{},\"columnVisibility\":{}},\"settings\":{\"columns\":{}},\"syncTimestamp\":1752512295550}",
       "filterBlob": "{\"version\":1,\"filterGroups\":[{\"enabled\":true,\"filterGroupId\":\"fg_70a3de6\",\"op\":\"OR\",\"filters\":[{\"filterId\":\"f_e83d7713\",\"enabled\":true,\"columnId\":\"sls_ord_num\",\"dataType\":\"string\",\"filterType\":\"oneof\",\"filterValues\":[\"SO43697\"],\"filterConfig\":{\"caseSensitive\":true}}],\"local\":false,\"updatedAt\":1752512782022}],\"syncTimestamp\":1752512782022}",
       "queryPlanFiltersBlob": "[{\"kind\":\"call\",\"function\":\"or\",\"args\":[{\"kind\":\"call\",\"function\":\"in\",\"args\":[{\"kind\":\"identifier\",\"identifier\":\"sls_ord_num\"},{\"kind\":\"literal\",\"value\":\"SO43697\",\"type\":\"string\"}]}]}]",
       "tableResultIndex": 0
      }
     },
     "title": ""
    }
   },
   "outputs": [],
   "source": [
    "# Sales Fact\n",
    "gold_sales_details = spark.read.format(\"csv\").option(\"header\", \"true\").option(\"inferSchema\", \"true\").load(\"/Volumes/workspace/default/silver/source_crm/sales_details.csv\")\n",
    "\n",
    "sales_fact = gold_sales_details.join(cust_dimension, gold_sales_details.sls_cust_id == cust_dimension.cst_id, \"left\").join(prod_dimension, gold_sales_details.sls_prd_key == prod_dimension.prd_key, \"left\")\n",
    "\n",
    "\n",
    "display(sales_fact)\n"
   ]
  }
 ],
 "metadata": {
  "application/vnd.databricks.v1+notebook": {
   "computePreferences": null,
   "dashboards": [],
   "environmentMetadata": {
    "base_environment": "",
    "environment_version": "2"
   },
   "inputWidgetPreferences": null,
   "language": "python",
   "notebookMetadata": {
    "pythonIndentUnit": 4
   },
   "notebookName": "Gold Notebook",
   "widgets": {}
  },
  "language_info": {
   "name": "python"
  }
 },
 "nbformat": 4,
 "nbformat_minor": 0
}
